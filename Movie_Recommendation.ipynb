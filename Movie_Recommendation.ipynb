{
  "nbformat": 4,
  "nbformat_minor": 0,
  "metadata": {
    "colab": {
      "provenance": []
    },
    "kernelspec": {
      "name": "python3",
      "display_name": "Python 3"
    },
    "language_info": {
      "name": "python"
    }
  },
  "cells": [
    {
      "cell_type": "code",
      "execution_count": 7,
      "metadata": {
        "colab": {
          "base_uri": "https://localhost:8080/"
        },
        "id": "vIRAU6qxFY2a",
        "outputId": "fb426f9f-5ad5-4fe2-d639-6bf3277c29f1"
      },
      "outputs": [
        {
          "output_type": "stream",
          "name": "stdout",
          "text": [
            "Mounted at /content/drive\n"
          ]
        }
      ],
      "source": [
        "from google.colab import drive\n",
        "drive.mount('/content/drive')\n",
        ""
      ]
    },
    {
      "cell_type": "code",
      "source": [
        "import pandas as pd\n",
        "df=pd.read_csv('/content/movies.csv')"
      ],
      "metadata": {
        "id": "q1oJGl5eZvDT"
      },
      "execution_count": 8,
      "outputs": []
    },
    {
      "cell_type": "code",
      "source": [
        "import pandas as pd\n",
        "\n"
      ],
      "metadata": {
        "id": "NPMYD0pcazOp"
      },
      "execution_count": 9,
      "outputs": []
    },
    {
      "cell_type": "code",
      "source": [
        "# Display first few rows to understand the dataset\n",
        "print(df.head())\n",
        "\n",
        "# Check for missing values\n",
        "print(df.isnull().sum())\n",
        "\n",
        "# Check if the 'description' column exists. If not, it may be named something else, like 'overview'\n",
        "print(df.columns)\n",
        "\n",
        "# Fill missing descriptions with an empty string if needed\n",
        "# If the column is named differently, replace 'description' with the correct name\n",
        "if 'description' in df.columns:\n",
        "  df['description'] = df['description'].fillna('')\n",
        "elif 'overview' in df.columns:\n",
        "  df['overview'] = df['overview'].fillna('')"
      ],
      "metadata": {
        "colab": {
          "base_uri": "https://localhost:8080/"
        },
        "id": "gSCH_dNabzwG",
        "outputId": "c54051a5-ca11-46e3-b6be-581d36974871"
      },
      "execution_count": 11,
      "outputs": [
        {
          "output_type": "stream",
          "name": "stdout",
          "text": [
            "                                             name rating      genre  year  \\\n",
            "0                                     The Shining      R      Drama  1980   \n",
            "1                                 The Blue Lagoon      R  Adventure  1980   \n",
            "2  Star Wars: Episode V - The Empire Strikes Back     PG     Action  1980   \n",
            "3                                       Airplane!     PG     Comedy  1980   \n",
            "4                                      Caddyshack      R     Comedy  1980   \n",
            "\n",
            "                        released  score      votes         director  \\\n",
            "0  June 13, 1980 (United States)    8.4   927000.0  Stanley Kubrick   \n",
            "1   July 2, 1980 (United States)    5.8    65000.0   Randal Kleiser   \n",
            "2  June 20, 1980 (United States)    8.7  1200000.0   Irvin Kershner   \n",
            "3   July 2, 1980 (United States)    7.7   221000.0     Jim Abrahams   \n",
            "4  July 25, 1980 (United States)    7.3   108000.0     Harold Ramis   \n",
            "\n",
            "                    writer            star         country      budget  \\\n",
            "0             Stephen King  Jack Nicholson  United Kingdom  19000000.0   \n",
            "1  Henry De Vere Stacpoole  Brooke Shields   United States   4500000.0   \n",
            "2           Leigh Brackett     Mark Hamill   United States  18000000.0   \n",
            "3             Jim Abrahams     Robert Hays   United States   3500000.0   \n",
            "4       Brian Doyle-Murray     Chevy Chase   United States   6000000.0   \n",
            "\n",
            "         gross             company  runtime  \n",
            "0   46998772.0        Warner Bros.    146.0  \n",
            "1   58853106.0   Columbia Pictures    104.0  \n",
            "2  538375067.0           Lucasfilm    124.0  \n",
            "3   83453539.0  Paramount Pictures     88.0  \n",
            "4   39846344.0      Orion Pictures     98.0  \n",
            "name           0\n",
            "rating        77\n",
            "genre          0\n",
            "year           0\n",
            "released       2\n",
            "score          3\n",
            "votes          3\n",
            "director       0\n",
            "writer         3\n",
            "star           1\n",
            "country        3\n",
            "budget      2171\n",
            "gross        189\n",
            "company       17\n",
            "runtime        4\n",
            "dtype: int64\n",
            "Index(['name', 'rating', 'genre', 'year', 'released', 'score', 'votes',\n",
            "       'director', 'writer', 'star', 'country', 'budget', 'gross', 'company',\n",
            "       'runtime'],\n",
            "      dtype='object')\n"
          ]
        }
      ]
    },
    {
      "cell_type": "code",
      "source": [
        "### 3. Data Preprocessing\n",
        "\n",
        "\n",
        "from sklearn.feature_extraction.text import TfidfVectorizer\n",
        "\n",
        "# Process genres: replace '|' with spaces\n",
        "df['genres'] = df['genres'].apply(lambda x: ' '.join(x.split('|')))\n",
        "\n",
        "# Initialize TF-IDF Vectorizer for genres\n",
        "genre_vectorizer = TfidfVectorizer()\n",
        "genre_matrix = genre_vectorizer.fit_transform(df['genres'])\n",
        "\n",
        "# Initialize TF-IDF Vectorizer for descriptions\n",
        "description_vectorizer = TfidfVectorizer(stop_words='english')\n",
        "description_matrix = description_vectorizer.fit_transform(df['description'])\n"
      ],
      "metadata": {
        "colab": {
          "base_uri": "https://localhost:8080/",
          "height": 616
        },
        "id": "KraS5zzcb4pY",
        "outputId": "97ce4b14-fe07-4114-b9e1-de81c262518a"
      },
      "execution_count": 12,
      "outputs": [
        {
          "output_type": "error",
          "ename": "KeyError",
          "evalue": "'genres'",
          "traceback": [
            "\u001b[0;31m---------------------------------------------------------------------------\u001b[0m",
            "\u001b[0;31mKeyError\u001b[0m                                  Traceback (most recent call last)",
            "\u001b[0;32m/usr/local/lib/python3.10/dist-packages/pandas/core/indexes/base.py\u001b[0m in \u001b[0;36mget_loc\u001b[0;34m(self, key)\u001b[0m\n\u001b[1;32m   3790\u001b[0m         \u001b[0;32mtry\u001b[0m\u001b[0;34m:\u001b[0m\u001b[0;34m\u001b[0m\u001b[0;34m\u001b[0m\u001b[0m\n\u001b[0;32m-> 3791\u001b[0;31m             \u001b[0;32mreturn\u001b[0m \u001b[0mself\u001b[0m\u001b[0;34m.\u001b[0m\u001b[0m_engine\u001b[0m\u001b[0;34m.\u001b[0m\u001b[0mget_loc\u001b[0m\u001b[0;34m(\u001b[0m\u001b[0mcasted_key\u001b[0m\u001b[0;34m)\u001b[0m\u001b[0;34m\u001b[0m\u001b[0;34m\u001b[0m\u001b[0m\n\u001b[0m\u001b[1;32m   3792\u001b[0m         \u001b[0;32mexcept\u001b[0m \u001b[0mKeyError\u001b[0m \u001b[0;32mas\u001b[0m \u001b[0merr\u001b[0m\u001b[0;34m:\u001b[0m\u001b[0;34m\u001b[0m\u001b[0;34m\u001b[0m\u001b[0m\n",
            "\u001b[0;32mindex.pyx\u001b[0m in \u001b[0;36mpandas._libs.index.IndexEngine.get_loc\u001b[0;34m()\u001b[0m\n",
            "\u001b[0;32mindex.pyx\u001b[0m in \u001b[0;36mpandas._libs.index.IndexEngine.get_loc\u001b[0;34m()\u001b[0m\n",
            "\u001b[0;32mpandas/_libs/hashtable_class_helper.pxi\u001b[0m in \u001b[0;36mpandas._libs.hashtable.PyObjectHashTable.get_item\u001b[0;34m()\u001b[0m\n",
            "\u001b[0;32mpandas/_libs/hashtable_class_helper.pxi\u001b[0m in \u001b[0;36mpandas._libs.hashtable.PyObjectHashTable.get_item\u001b[0;34m()\u001b[0m\n",
            "\u001b[0;31mKeyError\u001b[0m: 'genres'",
            "\nThe above exception was the direct cause of the following exception:\n",
            "\u001b[0;31mKeyError\u001b[0m                                  Traceback (most recent call last)",
            "\u001b[0;32m<ipython-input-12-2a7ed41c5392>\u001b[0m in \u001b[0;36m<cell line: 7>\u001b[0;34m()\u001b[0m\n\u001b[1;32m      5\u001b[0m \u001b[0;34m\u001b[0m\u001b[0m\n\u001b[1;32m      6\u001b[0m \u001b[0;31m# Process genres: replace '|' with spaces\u001b[0m\u001b[0;34m\u001b[0m\u001b[0;34m\u001b[0m\u001b[0m\n\u001b[0;32m----> 7\u001b[0;31m \u001b[0mdf\u001b[0m\u001b[0;34m[\u001b[0m\u001b[0;34m'genres'\u001b[0m\u001b[0;34m]\u001b[0m \u001b[0;34m=\u001b[0m \u001b[0mdf\u001b[0m\u001b[0;34m[\u001b[0m\u001b[0;34m'genres'\u001b[0m\u001b[0;34m]\u001b[0m\u001b[0;34m.\u001b[0m\u001b[0mapply\u001b[0m\u001b[0;34m(\u001b[0m\u001b[0;32mlambda\u001b[0m \u001b[0mx\u001b[0m\u001b[0;34m:\u001b[0m \u001b[0;34m' '\u001b[0m\u001b[0;34m.\u001b[0m\u001b[0mjoin\u001b[0m\u001b[0;34m(\u001b[0m\u001b[0mx\u001b[0m\u001b[0;34m.\u001b[0m\u001b[0msplit\u001b[0m\u001b[0;34m(\u001b[0m\u001b[0;34m'|'\u001b[0m\u001b[0;34m)\u001b[0m\u001b[0;34m)\u001b[0m\u001b[0;34m)\u001b[0m\u001b[0;34m\u001b[0m\u001b[0;34m\u001b[0m\u001b[0m\n\u001b[0m\u001b[1;32m      8\u001b[0m \u001b[0;34m\u001b[0m\u001b[0m\n\u001b[1;32m      9\u001b[0m \u001b[0;31m# Initialize TF-IDF Vectorizer for genres\u001b[0m\u001b[0;34m\u001b[0m\u001b[0;34m\u001b[0m\u001b[0m\n",
            "\u001b[0;32m/usr/local/lib/python3.10/dist-packages/pandas/core/frame.py\u001b[0m in \u001b[0;36m__getitem__\u001b[0;34m(self, key)\u001b[0m\n\u001b[1;32m   3891\u001b[0m             \u001b[0;32mif\u001b[0m \u001b[0mself\u001b[0m\u001b[0;34m.\u001b[0m\u001b[0mcolumns\u001b[0m\u001b[0;34m.\u001b[0m\u001b[0mnlevels\u001b[0m \u001b[0;34m>\u001b[0m \u001b[0;36m1\u001b[0m\u001b[0;34m:\u001b[0m\u001b[0;34m\u001b[0m\u001b[0;34m\u001b[0m\u001b[0m\n\u001b[1;32m   3892\u001b[0m                 \u001b[0;32mreturn\u001b[0m \u001b[0mself\u001b[0m\u001b[0;34m.\u001b[0m\u001b[0m_getitem_multilevel\u001b[0m\u001b[0;34m(\u001b[0m\u001b[0mkey\u001b[0m\u001b[0;34m)\u001b[0m\u001b[0;34m\u001b[0m\u001b[0;34m\u001b[0m\u001b[0m\n\u001b[0;32m-> 3893\u001b[0;31m             \u001b[0mindexer\u001b[0m \u001b[0;34m=\u001b[0m \u001b[0mself\u001b[0m\u001b[0;34m.\u001b[0m\u001b[0mcolumns\u001b[0m\u001b[0;34m.\u001b[0m\u001b[0mget_loc\u001b[0m\u001b[0;34m(\u001b[0m\u001b[0mkey\u001b[0m\u001b[0;34m)\u001b[0m\u001b[0;34m\u001b[0m\u001b[0;34m\u001b[0m\u001b[0m\n\u001b[0m\u001b[1;32m   3894\u001b[0m             \u001b[0;32mif\u001b[0m \u001b[0mis_integer\u001b[0m\u001b[0;34m(\u001b[0m\u001b[0mindexer\u001b[0m\u001b[0;34m)\u001b[0m\u001b[0;34m:\u001b[0m\u001b[0;34m\u001b[0m\u001b[0;34m\u001b[0m\u001b[0m\n\u001b[1;32m   3895\u001b[0m                 \u001b[0mindexer\u001b[0m \u001b[0;34m=\u001b[0m \u001b[0;34m[\u001b[0m\u001b[0mindexer\u001b[0m\u001b[0;34m]\u001b[0m\u001b[0;34m\u001b[0m\u001b[0;34m\u001b[0m\u001b[0m\n",
            "\u001b[0;32m/usr/local/lib/python3.10/dist-packages/pandas/core/indexes/base.py\u001b[0m in \u001b[0;36mget_loc\u001b[0;34m(self, key)\u001b[0m\n\u001b[1;32m   3796\u001b[0m             ):\n\u001b[1;32m   3797\u001b[0m                 \u001b[0;32mraise\u001b[0m \u001b[0mInvalidIndexError\u001b[0m\u001b[0;34m(\u001b[0m\u001b[0mkey\u001b[0m\u001b[0;34m)\u001b[0m\u001b[0;34m\u001b[0m\u001b[0;34m\u001b[0m\u001b[0m\n\u001b[0;32m-> 3798\u001b[0;31m             \u001b[0;32mraise\u001b[0m \u001b[0mKeyError\u001b[0m\u001b[0;34m(\u001b[0m\u001b[0mkey\u001b[0m\u001b[0;34m)\u001b[0m \u001b[0;32mfrom\u001b[0m \u001b[0merr\u001b[0m\u001b[0;34m\u001b[0m\u001b[0;34m\u001b[0m\u001b[0m\n\u001b[0m\u001b[1;32m   3799\u001b[0m         \u001b[0;32mexcept\u001b[0m \u001b[0mTypeError\u001b[0m\u001b[0;34m:\u001b[0m\u001b[0;34m\u001b[0m\u001b[0;34m\u001b[0m\u001b[0m\n\u001b[1;32m   3800\u001b[0m             \u001b[0;31m# If we have a listlike key, _check_indexing_error will raise\u001b[0m\u001b[0;34m\u001b[0m\u001b[0;34m\u001b[0m\u001b[0m\n",
            "\u001b[0;31mKeyError\u001b[0m: 'genres'"
          ]
        }
      ]
    },
    {
      "cell_type": "code",
      "source": [
        "### 3. Data Preprocessing\n",
        "\n",
        "from sklearn.feature_extraction.text import TfidfVectorizer\n",
        "\n",
        "# Check the actual column name for genres\n",
        "# Print the columns to see the available options\n",
        "print(df.columns)\n",
        "\n",
        "# Assuming the column is named 'genre', adjust the code accordingly\n",
        "df['genre'] = df['genre'].apply(lambda x: ' '.join(x.split('|')))\n",
        "\n",
        "# Initialize TF-IDF Vectorizer for genres\n",
        "genre_vectorizer = TfidfVectorizer()\n",
        "genre_matrix = genre_vectorizer.fit_transform(df['genre'])\n",
        "\n",
        "# Initialize TF-IDF Vectorizer for descriptions\n",
        "description_vectorizer = TfidfVectorizer(stop_words='english')\n",
        "description_matrix = description_vectorizer.fit_transform(df['description'])"
      ],
      "metadata": {
        "colab": {
          "base_uri": "https://localhost:8080/",
          "height": 686
        },
        "id": "Q5OKslpvcHdZ",
        "outputId": "a741eca1-5f49-4ead-a855-883f317a2972"
      },
      "execution_count": 13,
      "outputs": [
        {
          "output_type": "stream",
          "name": "stdout",
          "text": [
            "Index(['name', 'rating', 'genre', 'year', 'released', 'score', 'votes',\n",
            "       'director', 'writer', 'star', 'country', 'budget', 'gross', 'company',\n",
            "       'runtime'],\n",
            "      dtype='object')\n"
          ]
        },
        {
          "output_type": "error",
          "ename": "KeyError",
          "evalue": "'description'",
          "traceback": [
            "\u001b[0;31m---------------------------------------------------------------------------\u001b[0m",
            "\u001b[0;31mKeyError\u001b[0m                                  Traceback (most recent call last)",
            "\u001b[0;32m/usr/local/lib/python3.10/dist-packages/pandas/core/indexes/base.py\u001b[0m in \u001b[0;36mget_loc\u001b[0;34m(self, key)\u001b[0m\n\u001b[1;32m   3790\u001b[0m         \u001b[0;32mtry\u001b[0m\u001b[0;34m:\u001b[0m\u001b[0;34m\u001b[0m\u001b[0;34m\u001b[0m\u001b[0m\n\u001b[0;32m-> 3791\u001b[0;31m             \u001b[0;32mreturn\u001b[0m \u001b[0mself\u001b[0m\u001b[0;34m.\u001b[0m\u001b[0m_engine\u001b[0m\u001b[0;34m.\u001b[0m\u001b[0mget_loc\u001b[0m\u001b[0;34m(\u001b[0m\u001b[0mcasted_key\u001b[0m\u001b[0;34m)\u001b[0m\u001b[0;34m\u001b[0m\u001b[0;34m\u001b[0m\u001b[0m\n\u001b[0m\u001b[1;32m   3792\u001b[0m         \u001b[0;32mexcept\u001b[0m \u001b[0mKeyError\u001b[0m \u001b[0;32mas\u001b[0m \u001b[0merr\u001b[0m\u001b[0;34m:\u001b[0m\u001b[0;34m\u001b[0m\u001b[0;34m\u001b[0m\u001b[0m\n",
            "\u001b[0;32mindex.pyx\u001b[0m in \u001b[0;36mpandas._libs.index.IndexEngine.get_loc\u001b[0;34m()\u001b[0m\n",
            "\u001b[0;32mindex.pyx\u001b[0m in \u001b[0;36mpandas._libs.index.IndexEngine.get_loc\u001b[0;34m()\u001b[0m\n",
            "\u001b[0;32mpandas/_libs/hashtable_class_helper.pxi\u001b[0m in \u001b[0;36mpandas._libs.hashtable.PyObjectHashTable.get_item\u001b[0;34m()\u001b[0m\n",
            "\u001b[0;32mpandas/_libs/hashtable_class_helper.pxi\u001b[0m in \u001b[0;36mpandas._libs.hashtable.PyObjectHashTable.get_item\u001b[0;34m()\u001b[0m\n",
            "\u001b[0;31mKeyError\u001b[0m: 'description'",
            "\nThe above exception was the direct cause of the following exception:\n",
            "\u001b[0;31mKeyError\u001b[0m                                  Traceback (most recent call last)",
            "\u001b[0;32m<ipython-input-13-c38145a06e7c>\u001b[0m in \u001b[0;36m<cell line: 18>\u001b[0;34m()\u001b[0m\n\u001b[1;32m     16\u001b[0m \u001b[0;31m# Initialize TF-IDF Vectorizer for descriptions\u001b[0m\u001b[0;34m\u001b[0m\u001b[0;34m\u001b[0m\u001b[0m\n\u001b[1;32m     17\u001b[0m \u001b[0mdescription_vectorizer\u001b[0m \u001b[0;34m=\u001b[0m \u001b[0mTfidfVectorizer\u001b[0m\u001b[0;34m(\u001b[0m\u001b[0mstop_words\u001b[0m\u001b[0;34m=\u001b[0m\u001b[0;34m'english'\u001b[0m\u001b[0;34m)\u001b[0m\u001b[0;34m\u001b[0m\u001b[0;34m\u001b[0m\u001b[0m\n\u001b[0;32m---> 18\u001b[0;31m \u001b[0mdescription_matrix\u001b[0m \u001b[0;34m=\u001b[0m \u001b[0mdescription_vectorizer\u001b[0m\u001b[0;34m.\u001b[0m\u001b[0mfit_transform\u001b[0m\u001b[0;34m(\u001b[0m\u001b[0mdf\u001b[0m\u001b[0;34m[\u001b[0m\u001b[0;34m'description'\u001b[0m\u001b[0;34m]\u001b[0m\u001b[0;34m)\u001b[0m\u001b[0;34m\u001b[0m\u001b[0;34m\u001b[0m\u001b[0m\n\u001b[0m",
            "\u001b[0;32m/usr/local/lib/python3.10/dist-packages/pandas/core/frame.py\u001b[0m in \u001b[0;36m__getitem__\u001b[0;34m(self, key)\u001b[0m\n\u001b[1;32m   3891\u001b[0m             \u001b[0;32mif\u001b[0m \u001b[0mself\u001b[0m\u001b[0;34m.\u001b[0m\u001b[0mcolumns\u001b[0m\u001b[0;34m.\u001b[0m\u001b[0mnlevels\u001b[0m \u001b[0;34m>\u001b[0m \u001b[0;36m1\u001b[0m\u001b[0;34m:\u001b[0m\u001b[0;34m\u001b[0m\u001b[0;34m\u001b[0m\u001b[0m\n\u001b[1;32m   3892\u001b[0m                 \u001b[0;32mreturn\u001b[0m \u001b[0mself\u001b[0m\u001b[0;34m.\u001b[0m\u001b[0m_getitem_multilevel\u001b[0m\u001b[0;34m(\u001b[0m\u001b[0mkey\u001b[0m\u001b[0;34m)\u001b[0m\u001b[0;34m\u001b[0m\u001b[0;34m\u001b[0m\u001b[0m\n\u001b[0;32m-> 3893\u001b[0;31m             \u001b[0mindexer\u001b[0m \u001b[0;34m=\u001b[0m \u001b[0mself\u001b[0m\u001b[0;34m.\u001b[0m\u001b[0mcolumns\u001b[0m\u001b[0;34m.\u001b[0m\u001b[0mget_loc\u001b[0m\u001b[0;34m(\u001b[0m\u001b[0mkey\u001b[0m\u001b[0;34m)\u001b[0m\u001b[0;34m\u001b[0m\u001b[0;34m\u001b[0m\u001b[0m\n\u001b[0m\u001b[1;32m   3894\u001b[0m             \u001b[0;32mif\u001b[0m \u001b[0mis_integer\u001b[0m\u001b[0;34m(\u001b[0m\u001b[0mindexer\u001b[0m\u001b[0;34m)\u001b[0m\u001b[0;34m:\u001b[0m\u001b[0;34m\u001b[0m\u001b[0;34m\u001b[0m\u001b[0m\n\u001b[1;32m   3895\u001b[0m                 \u001b[0mindexer\u001b[0m \u001b[0;34m=\u001b[0m \u001b[0;34m[\u001b[0m\u001b[0mindexer\u001b[0m\u001b[0;34m]\u001b[0m\u001b[0;34m\u001b[0m\u001b[0;34m\u001b[0m\u001b[0m\n",
            "\u001b[0;32m/usr/local/lib/python3.10/dist-packages/pandas/core/indexes/base.py\u001b[0m in \u001b[0;36mget_loc\u001b[0;34m(self, key)\u001b[0m\n\u001b[1;32m   3796\u001b[0m             ):\n\u001b[1;32m   3797\u001b[0m                 \u001b[0;32mraise\u001b[0m \u001b[0mInvalidIndexError\u001b[0m\u001b[0;34m(\u001b[0m\u001b[0mkey\u001b[0m\u001b[0;34m)\u001b[0m\u001b[0;34m\u001b[0m\u001b[0;34m\u001b[0m\u001b[0m\n\u001b[0;32m-> 3798\u001b[0;31m             \u001b[0;32mraise\u001b[0m \u001b[0mKeyError\u001b[0m\u001b[0;34m(\u001b[0m\u001b[0mkey\u001b[0m\u001b[0;34m)\u001b[0m \u001b[0;32mfrom\u001b[0m \u001b[0merr\u001b[0m\u001b[0;34m\u001b[0m\u001b[0;34m\u001b[0m\u001b[0m\n\u001b[0m\u001b[1;32m   3799\u001b[0m         \u001b[0;32mexcept\u001b[0m \u001b[0mTypeError\u001b[0m\u001b[0;34m:\u001b[0m\u001b[0;34m\u001b[0m\u001b[0;34m\u001b[0m\u001b[0m\n\u001b[1;32m   3800\u001b[0m             \u001b[0;31m# If we have a listlike key, _check_indexing_error will raise\u001b[0m\u001b[0;34m\u001b[0m\u001b[0;34m\u001b[0m\u001b[0m\n",
            "\u001b[0;31mKeyError\u001b[0m: 'description'"
          ]
        }
      ]
    },
    {
      "cell_type": "code",
      "source": [
        "import pandas as pd\n",
        "\n"
      ],
      "metadata": {
        "id": "xfq9KN-oc0go"
      },
      "execution_count": 14,
      "outputs": []
    },
    {
      "cell_type": "code",
      "source": [
        "# Display the first few rows to understand the dataset\n",
        "print(df.head())\n",
        "\n",
        "# Check for missing values\n",
        "print(df.isnull().sum())\n",
        "\n",
        "# Fill missing values if necessary\n",
        "df['genre'] = df['genre'].fillna('')\n",
        "\n"
      ],
      "metadata": {
        "colab": {
          "base_uri": "https://localhost:8080/"
        },
        "id": "pSr6xi5Zc10X",
        "outputId": "459d0678-89ea-4eb5-aae3-a6ed255ff262"
      },
      "execution_count": 15,
      "outputs": [
        {
          "output_type": "stream",
          "name": "stdout",
          "text": [
            "                                             name rating      genre  year  \\\n",
            "0                                     The Shining      R      Drama  1980   \n",
            "1                                 The Blue Lagoon      R  Adventure  1980   \n",
            "2  Star Wars: Episode V - The Empire Strikes Back     PG     Action  1980   \n",
            "3                                       Airplane!     PG     Comedy  1980   \n",
            "4                                      Caddyshack      R     Comedy  1980   \n",
            "\n",
            "                        released  score      votes         director  \\\n",
            "0  June 13, 1980 (United States)    8.4   927000.0  Stanley Kubrick   \n",
            "1   July 2, 1980 (United States)    5.8    65000.0   Randal Kleiser   \n",
            "2  June 20, 1980 (United States)    8.7  1200000.0   Irvin Kershner   \n",
            "3   July 2, 1980 (United States)    7.7   221000.0     Jim Abrahams   \n",
            "4  July 25, 1980 (United States)    7.3   108000.0     Harold Ramis   \n",
            "\n",
            "                    writer            star         country      budget  \\\n",
            "0             Stephen King  Jack Nicholson  United Kingdom  19000000.0   \n",
            "1  Henry De Vere Stacpoole  Brooke Shields   United States   4500000.0   \n",
            "2           Leigh Brackett     Mark Hamill   United States  18000000.0   \n",
            "3             Jim Abrahams     Robert Hays   United States   3500000.0   \n",
            "4       Brian Doyle-Murray     Chevy Chase   United States   6000000.0   \n",
            "\n",
            "         gross             company  runtime  \n",
            "0   46998772.0        Warner Bros.    146.0  \n",
            "1   58853106.0   Columbia Pictures    104.0  \n",
            "2  538375067.0           Lucasfilm    124.0  \n",
            "3   83453539.0  Paramount Pictures     88.0  \n",
            "4   39846344.0      Orion Pictures     98.0  \n",
            "name           0\n",
            "rating        77\n",
            "genre          0\n",
            "year           0\n",
            "released       2\n",
            "score          3\n",
            "votes          3\n",
            "director       0\n",
            "writer         3\n",
            "star           1\n",
            "country        3\n",
            "budget      2171\n",
            "gross        189\n",
            "company       17\n",
            "runtime        4\n",
            "dtype: int64\n"
          ]
        }
      ]
    },
    {
      "cell_type": "code",
      "source": [
        "### 3. Data Preprocessing\n",
        "\n",
        "\n",
        "from sklearn.feature_extraction.text import TfidfVectorizer\n",
        "\n",
        "# Process genres: replace '|' with spaces if necessary\n",
        "df['genre'] = df['genre'].apply(lambda x: ' '.join(x.split('|')))\n",
        "\n",
        "# Initialize TF-IDF Vectorizer for genres\n",
        "genre_vectorizer = TfidfVectorizer()\n",
        "genre_matrix = genre_vectorizer.fit_transform(df['genre'])\n",
        "\n",
        "\n"
      ],
      "metadata": {
        "id": "3WuXRVPqc5r9"
      },
      "execution_count": 17,
      "outputs": []
    },
    {
      "cell_type": "code",
      "source": [
        "### 4. Compute Similarity\n",
        "\n",
        "#Calculate similarity between movies based on genre:\n",
        "\n",
        "\n",
        "from sklearn.metrics.pairwise import cosine_similarity\n",
        "\n",
        "# Compute similarity between movies based on genres\n",
        "genre_similarity = cosine_similarity(genre_matrix, genre_matrix)\n",
        "\n"
      ],
      "metadata": {
        "id": "Z3B1_WYedBxr"
      },
      "execution_count": 20,
      "outputs": []
    },
    {
      "cell_type": "code",
      "source": [
        "### 5. Build the Recommendation Function\n",
        "\n",
        "#Create a function to recommend movies based on a given movie name:\n",
        "\n",
        "\n",
        "def get_recommendations(movie_name, df, similarity_matrix, top_n=10):\n",
        "    \"\"\"\n",
        "    Get movie recommendations based on a given movie name.\n",
        "\n",
        "    Parameters:\n",
        "        movie_name (str): The name of the movie to base recommendations on.\n",
        "        df (DataFrame): The DataFrame containing movie data.\n",
        "        similarity_matrix (array): The matrix of similarities between movies.\n",
        "        top_n (int): The number of top recommendations to return.\n",
        "\n",
        "    Returns:\n",
        "        list: A list of recommended movie names.\n",
        "    \"\"\"\n",
        "    # Ensure the movie name exists in the dataset\n",
        "    if movie_name not in df['name'].values:\n",
        "        return \"Movie name not found in the dataset.\"\n",
        "\n",
        "    # Get index of the movie\n",
        "    idx = df[df['name'] == movie_name].index[0]\n",
        "\n",
        "    # Get pairwise similarity scores of all movies with that movie\n",
        "    sim_scores = list(enumerate(similarity_matrix[idx]))\n",
        "\n",
        "    # Sort movies based on similarity scores\n",
        "    sim_scores = sorted(sim_scores, key=lambda x: x[1], reverse=True)\n",
        "\n",
        "    # Get scores of the top_n most similar movies\n",
        "    sim_scores = sim_scores[1:top_n+1]\n",
        "\n",
        "    # Get movie indices\n",
        "    movie_indices = [i[0] for i in sim_scores]\n",
        "\n",
        "    return df['name'].iloc[movie_indices].tolist()\n",
        "\n",
        "# Example usage\n",
        "recommendations = get_recommendations('The Shining', df, genre_similarity)\n",
        "print(recommendations)\n"
      ],
      "metadata": {
        "colab": {
          "base_uri": "https://localhost:8080/"
        },
        "id": "4VBOo751dP2C",
        "outputId": "4d3fec27-7cab-49c6-ab10-69c5f0c746ce"
      },
      "execution_count": 22,
      "outputs": [
        {
          "output_type": "stream",
          "name": "stdout",
          "text": [
            "['Ordinary People', 'Somewhere in Time', 'Fame', 'Urban Cowboy', 'Cattle Annie and Little Britches', 'The Jazz Singer', 'Breaker Morant', 'The Competition', 'Honeysuckle Rose', 'Resurrection']\n"
          ]
        }
      ]
    }
  ]
}